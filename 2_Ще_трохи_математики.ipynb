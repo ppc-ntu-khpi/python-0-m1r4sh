{
  "nbformat": 4,
  "nbformat_minor": 0,
  "metadata": {
    "colab": {
      "name": "2. Ще трохи математики",
      "provenance": [],
      "toc_visible": true
    },
    "kernelspec": {
      "name": "python3",
      "display_name": "Python 3"
    },
    "language_info": {
      "name": "python"
    }
  },
  "cells": [
    {
      "cell_type": "markdown",
      "metadata": {
        "id": "nspjmpTrxgZS"
      },
      "source": [
        "# Ще трохи математики"
      ]
    },
    {
      "cell_type": "markdown",
      "metadata": {
        "id": "9NqHzlZ2xtID"
      },
      "source": [
        "1. Обчисліть радіус кола, знаючи його площу. Нагадаємо формулу:\n",
        "$$\n",
        "  S=\\pi*R^2 => R =\\sqrt{\\frac{S}{\\pi}}\n",
        "$$\n",
        "Для обчислення скористаємось знайомими функціями ```sqrt``` та ```pi``` з пакету ```math```.\n"
      ]
    },
    {
      "cell_type": "code",
      "metadata": {
        "colab": {
          "base_uri": "https://localhost:8080/"
        },
        "id": "csfYPusD0mWX",
        "outputId": "f5cc6b93-9fc7-4295-c5d8-f7f32c12a201"
      },
      "source": [
        "from math import sqrt,pi\n",
        "S = float(input('Введіть площу кола: '))\n",
        "r = sqrt(S/pi)\n",
        "print ('Радіус дорівнює %6.3f см' %r)"
      ],
      "execution_count": 1,
      "outputs": [
        {
          "output_type": "stream",
          "name": "stdout",
          "text": [
            "Введіть площу кола: 20\n",
            "Радіус дорівнює  2.523 см\n"
          ]
        }
      ]
    },
    {
      "cell_type": "markdown",
      "metadata": {
        "id": "e7Ed3mEp11Rw"
      },
      "source": [
        "2. А тепер за зразком знайдіть в наступній комірці площу сфери та об'єм кулі. Нагадуємо формули:\n",
        "$$\n",
        "  S=4*\\pi*R^2    \n",
        "$$\n",
        "$$\n",
        "  V=\\frac{4}{3}*\\pi*R^3\n",
        "$$\n",
        "Також нагадаємо, що ступінь в Python задається так: ```**```"
      ]
    },
    {
      "cell_type": "code",
      "metadata": {
        "id": "sTFMO4Xp3fgO",
        "colab": {
          "base_uri": "https://localhost:8080/"
        },
        "outputId": "8845b63c-0f3a-4665-be78-9c74be54ddeb"
      },
      "source": [
        "from math import pi\n",
        "r = float(input('Введіть радіус сфери: '))\n",
        "S = round(4*pi*r**2,2)\n",
        "print(\"Площа сфери S =\", S)\n",
        "\n",
        "r = float(input('\\nВведіть радіус кулі: '))\n",
        "V = round(4/3*pi*r**3,1)\n",
        "print(\"Об'єм кулi V =\", V)\n"
      ],
      "execution_count": 2,
      "outputs": [
        {
          "output_type": "stream",
          "name": "stdout",
          "text": [
            "Введіть радіус сфери: 10\n",
            "Площа сфери S = 1256.64\n",
            "\n",
            "Введіть радіус кулі: 20\n",
            "Об'єм кулi V = 33510.3\n"
          ]
        }
      ]
    },
    {
      "cell_type": "markdown",
      "metadata": {
        "id": "Ki46Slel5ASd"
      },
      "source": [
        "3. А ще давайте переведемо температуру за Фаренгейтом у градуси Цельсія і навпаки. Формули тут надзвичайно прості:\n",
        "$$\n",
        "  C=(F-32)*0.5556\n",
        "$$\n",
        "$$\n",
        "  F=C*1.8+32\n",
        "$$\n",
        "Спробуйте в наступній комірці! Пам'ятайте про \"красиве\" введення і виведення даних."
      ]
    },
    {
      "cell_type": "code",
      "metadata": {
        "id": "8yhfAwYm5E_z",
        "colab": {
          "base_uri": "https://localhost:8080/"
        },
        "outputId": "a0075e0e-b9aa-47af-e95a-c567a0eb0193"
      },
      "source": [
        "F=float(input(\"Введіть температуру в Фаренгейтах: \"))\n",
        "C=float(round((F-32)*0.5556,1))\n",
        "print(\"Температура в градусах Цельсіях = \", C)\n",
        "\n",
        "print(\"\\nТепер давай спробуємо навпаки\")\n",
        "\n",
        "C=float(input(\"\\nВведіть температуру в градусах Цельсіях: \"))\n",
        "F=float(round(C*1.8+32,1))\n",
        "print(\"Температура в Фаренгейтах = \", F)"
      ],
      "execution_count": 3,
      "outputs": [
        {
          "output_type": "stream",
          "name": "stdout",
          "text": [
            "Введіть температуру в Фаренгейтах: 1\n",
            "Температура в градусах Цельсіях =  -17.2\n",
            "\n",
            "Тепер давай спробуємо навпаки\n",
            "\n",
            "Введіть температуру в градусах Цельсіях: 2\n",
            "Температура в Фаренгейтах =  35.6\n"
          ]
        }
      ]
    },
    {
      "cell_type": "markdown",
      "metadata": {
        "id": "rnapogmC6dta"
      },
      "source": [
        "Ще більше простих вправ з Python - [тут](https://www.w3resource.com/python-exercises/python-basic-exercises.php)"
      ]
    }
  ]
}